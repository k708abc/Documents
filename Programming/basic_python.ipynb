{
 "cells": [
  {
   "cell_type": "markdown",
   "id": "307e4886-1f79-4e8b-ba59-bc669057df39",
   "metadata": {},
   "source": [
    "# Basics of Python and Jupyter notebook\n",
    "This document introduces the very basics of Python and Jupyter notebook. \n",
    "The primary purpose of this document is to let you overcome the first barrier in programming, that is, \"start programming\".\n",
    "Therefore, for more information, read other books or search on internet, or recentry, AI may help you. "
   ]
  },
  {
   "cell_type": "markdown",
   "id": "55dd1e34-a0e3-4d61-815a-26b45cb5c7ee",
   "metadata": {},
   "source": [
    "## 1. About Jupyter notebook\n",
    "Jupyter notebook is a tool for programming (now you are using it). In the normal programming, the whole code in the file is run onece you start it. \n",
    "On the other hand, in Jupyter Notebook, the codes are separated by \"cell\", and the code can be run one-by-one.\n",
    "Therefore, you can easily check the middle process.\n",
    "\n",
    "Even you are using the Jpyter notebook or normal coding, most of the grammer in Python is the same.\n"
   ]
  },
  {
   "cell_type": "markdown",
   "id": "2cb2fc30-3490-417a-83c9-a19389949a4e",
   "metadata": {},
   "source": [
    "### 1-1. Markdown and code\n",
    "There are two types of cells in Jupyter notebook: Markdown and code.\n",
    "- Markdown: For commenting. \n",
    "- Code: For coding.\n",
    "\n",
    "This cell is a Markdown. For editting, double clicl this cell. And for finish editing, \"Run\" this cell or press \"Tab\" and \"Enter\" key.\n",
    "\n",
    "There is also a grammer for good noting in Markdown. Although you can ignore it at this stage, the complicated formula can be noted as follows:\n",
    "\n",
    "$$\n",
    "    f_a(x) = \\int^1_0{\\frac{ax^2+\\sqrt{bx} + c}{x^3 + \\sin{x}}dx}\n",
    "$$\n",
    "The grammer is similar to Latex."
   ]
  },
  {
   "cell_type": "markdown",
   "id": "13600c95-03fd-45d4-8ece-f5aa3ae844f5",
   "metadata": {},
   "source": [
    "## 2. Start coding\n",
    "### 2.1 Simple calculation\n",
    "The code can be run by \"run\" or \"Shift + Enter\""
   ]
  },
  {
   "cell_type": "code",
   "execution_count": 19,
   "id": "bc4d1553-7ca0-4cdf-821d-c0fcb51daf10",
   "metadata": {},
   "outputs": [
    {
     "name": "stdout",
     "output_type": "stream",
     "text": [
      "5\n"
     ]
    }
   ],
   "source": [
    "# The line after \"#\" is ignored when running the code.\n",
    "# Therefore, you can leace a comment after #\n",
    "\"\"\"\n",
    "The lines between \"\"\" and \"\"\" is also ignored in code.\n",
    "When leavng a long, note, you can use it.\n",
    "\"\"\"\n",
    "\n",
    "a = 3 # Define a variable \"a\" is \"3\"\n",
    "b = 2 # b is 2\n",
    "c = a + b # c is the sum of a and b.\n",
    "print(c) # print is a function to output the variabe. "
   ]
  },
  {
   "cell_type": "markdown",
   "id": "158bb6a1-637f-4ce9-b575-e96bfa8dd4b3",
   "metadata": {},
   "source": [
    "\"print()\" is a function to putput the value in the varaiable. Here we used it for checking that if the calculation \"a+b\" is success or not. \n",
    "\n",
    "When programming, you often face a situation where the code does not work as you expect.\n",
    "\n",
    "Therefore, checking the middle prosess is very important. For example, let us chaneg the value \"a\" and how it affects \"c\"."
   ]
  },
  {
   "cell_type": "code",
   "execution_count": 20,
   "id": "d91c8368-11de-4191-9bc2-3f26066c3404",
   "metadata": {},
   "outputs": [
    {
     "name": "stdout",
     "output_type": "stream",
     "text": [
      "5\n"
     ]
    }
   ],
   "source": [
    "a = 5 # Change the value of \"a\" from 3 to 5.\n",
    "print(c)"
   ]
  },
  {
   "cell_type": "markdown",
   "id": "eca000e9-e1e9-47d5-93d4-135ddc29d1a7",
   "metadata": {},
   "source": [
    "Someone may expent the putput of \"c\" should be \"7\", as w define \"c=a+b\". \n",
    "\n",
    "However, the result is \"5\", that is the same as the previus cell.\n",
    "\n",
    "Just change \"a\" does not affect the \"c\".\n",
    "\n",
    "Even you have some misunderstanding, you can realize it by checking the result by \"print\"."
   ]
  },
  {
   "cell_type": "code",
   "execution_count": 21,
   "id": "d5dbf28c-898b-4301-a1c9-adf763a823b1",
   "metadata": {},
   "outputs": [
    {
     "name": "stdout",
     "output_type": "stream",
     "text": [
      "result of a/b\n",
      "2.5\n",
      "result of a*b = 10\n"
     ]
    }
   ],
   "source": [
    "d = a/b # Division\n",
    "e = a*b # Multiple\n",
    "print(\"result of a/b\") # You can also output the sentence. The sentence should be quoted by \"\".\n",
    "print(d)\n",
    "\"\"\"\n",
    "Sentence and value cannnot be added. \n",
    "The str changes the type of variable from value to sentence, then two sentences can be combined.\n",
    "\"\"\"\n",
    "print(\"result of a*b = \" + str(e))\n"
   ]
  },
  {
   "cell_type": "markdown",
   "id": "8bcbd5aa-6fc2-4ca0-a48e-3e933f943af9",
   "metadata": {},
   "source": [
    "### 2.2 List\n",
    "\"list\" is a shiels of data, defied by [(values)]."
   ]
  },
  {
   "cell_type": "code",
   "execution_count": 22,
   "id": "1d228ef1-233e-45a8-94ea-eb2f6657c541",
   "metadata": {},
   "outputs": [
    {
     "name": "stdout",
     "output_type": "stream",
     "text": [
      "[0, 1, 2, 3]\n"
     ]
    }
   ],
   "source": [
    "a_list = [0, 1, 2, 3] # Define a list, putting several values.\n",
    "print(a_list)"
   ]
  },
  {
   "cell_type": "code",
   "execution_count": 24,
   "id": "b3b28be7-25c1-4a27-8f46-d2924d6f18bc",
   "metadata": {},
   "outputs": [
    {
     "name": "stdout",
     "output_type": "stream",
     "text": [
      "0\n",
      "1\n"
     ]
    }
   ],
   "source": [
    "\"\"\"\n",
    "You can get the value of i th component by (list)[i].\n",
    "Note that the conting in python start from 0.\n",
    "\"\"\"\n",
    "\n",
    "print(a_list[0]) # Print the 0th element in \"a_list\"\n",
    "print(a_list[1]) # 1st element"
   ]
  },
  {
   "cell_type": "code",
   "execution_count": 25,
   "id": "93b9bd23-f9cc-4a79-bd3e-494c2e67d566",
   "metadata": {},
   "outputs": [
    {
     "name": "stdout",
     "output_type": "stream",
     "text": [
      "[100, 1, 2, 3]\n"
     ]
    }
   ],
   "source": [
    "# You can replace the value.\n",
    "a_list[0] = 100 # Replace the 0th element in \"a_list\" to be 100\n",
    "print(a_list) # The 0th element is replaced by 100."
   ]
  },
  {
   "cell_type": "code",
   "execution_count": 26,
   "id": "de3a9fbd-d38a-46c2-afdc-10fec925344a",
   "metadata": {},
   "outputs": [
    {
     "name": "stdout",
     "output_type": "stream",
     "text": [
      "[100, 1, 2, 3, 50]\n"
     ]
    }
   ],
   "source": [
    "# Add a new element to the list using \".append\"\n",
    "a_list.append(50) # Add 50 at the end of the list\n",
    "print(a_list)"
   ]
  },
  {
   "cell_type": "code",
   "execution_count": 27,
   "id": "58dc4ec4-e7ed-4f7a-91cc-e47f225c4464",
   "metadata": {},
   "outputs": [
    {
     "name": "stdout",
     "output_type": "stream",
     "text": [
      "5\n"
     ]
    }
   ],
   "source": [
    "# Length of the list can be obtained by \"len(list)\".\n",
    "print(len(a_list))"
   ]
  },
  {
   "cell_type": "code",
   "execution_count": 28,
   "id": "aa414e97-cae8-4ffe-a1cd-d20d0d8b1b83",
   "metadata": {},
   "outputs": [
    {
     "name": "stdout",
     "output_type": "stream",
     "text": [
      "156\n"
     ]
    }
   ],
   "source": [
    "# get the sum of all the values in list using \"sum(list)\".\n",
    "print(sum(a_list))"
   ]
  },
  {
   "cell_type": "code",
   "execution_count": 30,
   "id": "3dedc2ae-5fc7-40e0-aad2-cb220b89c253",
   "metadata": {},
   "outputs": [
    {
     "name": "stdout",
     "output_type": "stream",
     "text": [
      "[[0, 1, 2], [3, 4, 5], [6, 7, 8]]\n"
     ]
    }
   ],
   "source": [
    "# You can also prepare a 2D list (the element of the list is also a list)\n",
    "b_2D_list = [[0, 1, 2], [3, 4, 5], [6, 7, 8]]\n",
    "print(b_2D_list)"
   ]
  },
  {
   "cell_type": "code",
   "execution_count": 31,
   "id": "f350d7d0-af66-4668-88f1-f6604289d6fa",
   "metadata": {},
   "outputs": [
    {
     "name": "stdout",
     "output_type": "stream",
     "text": [
      "[0, 1, 2]\n"
     ]
    }
   ],
   "source": [
    "# The element of the 2D list is a list\n",
    "print(b_2D_list[0])"
   ]
  },
  {
   "cell_type": "code",
   "execution_count": 33,
   "id": "b6830c44-b66c-489a-b2c6-25d68b5e6de7",
   "metadata": {},
   "outputs": [
    {
     "name": "stdout",
     "output_type": "stream",
     "text": [
      "0\n"
     ]
    }
   ],
   "source": [
    "# You need a two label to get the value in 2D list.\n",
    "print(b_2D_list[0][0])"
   ]
  },
  {
   "cell_type": "markdown",
   "id": "7d0b26ba-d72a-4fdf-9753-85a5a59baaa4",
   "metadata": {},
   "source": [
    "### For loop\n",
    "The \"for loop\" is udsed for repeating the calculation for defined number of times.\n",
    "By writing:\n",
    "\n",
    "for (variable) in range(start, end, interval):\n",
    "   \n",
    "    (process)\n",
    "\n",
    "Then the variable changes from start to end, with increasing the variable by interval.\n",
    "\n",
    "If interval is not defined, it will be 1.\n",
    "\n",
    "Note that the \":\" after the \"for\" sentence should be writen.\n",
    "In addition, the process in for loop should be indented by 4 spaces, which can be inserted by \"Tab\" key.\n"
   ]
  },
  {
   "cell_type": "code",
   "execution_count": 64,
   "id": "08454d4d-103d-4b6e-a1ba-10095f25d77c",
   "metadata": {},
   "outputs": [
    {
     "name": "stdout",
     "output_type": "stream",
     "text": [
      "0\n",
      "1\n",
      "2\n",
      "3\n",
      "4\n"
     ]
    }
   ],
   "source": [
    "for i in range(0, 5): # Repeat the loop from i = 0 to 4\n",
    "    print(i) # Print the \"i\" at each loop. Note the four spacces before \"print\""
   ]
  },
  {
   "cell_type": "markdown",
   "id": "e0a23a49-ef58-4a3f-8bfc-75517bea626c",
   "metadata": {},
   "source": [
    "Note that the end value is not calculated (although we define 5 as the final value, it end at 4)."
   ]
  },
  {
   "cell_type": "code",
   "execution_count": 65,
   "id": "3e37f3ac-c51b-440b-8090-a6605cf8affe",
   "metadata": {},
   "outputs": [
    {
     "name": "stdout",
     "output_type": "stream",
     "text": [
      "--------\n",
      "0\n",
      "100\n",
      "--------\n",
      "1\n",
      "1\n",
      "--------\n",
      "2\n",
      "2\n",
      "--------\n",
      "3\n",
      "3\n",
      "--------\n",
      "4\n",
      "50\n",
      "For loop finished\n"
     ]
    }
   ],
   "source": [
    "# Use for loop for a list. The values in \"a_list\" is used as variable \"i\" in each loop.\n",
    "num = 0 # Use it for counting\n",
    "for i in a_list:\n",
    "    print(\"--------\")\n",
    "    print(num)\n",
    "    print(i)\n",
    "    num = num + 1 # Add 1 for each loop\n",
    "print(\"For loop finished\") # The line without spaces are regarded as outside of loop"
   ]
  },
  {
   "cell_type": "code",
   "execution_count": 53,
   "id": "6814ecf2-a274-4802-bbf5-57a2bb1a46f8",
   "metadata": {},
   "outputs": [
    {
     "name": "stdout",
     "output_type": "stream",
     "text": [
      "0 th element is 100\n",
      "1 th element is 1\n",
      "2 th element is 2\n",
      "3 th element is 3\n",
      "4 th element is 50\n"
     ]
    }
   ],
   "source": [
    "# The above loop can be also realized using \"enumerate\".\n",
    "for i, val in enumerate(a_list):\n",
    "    print(str(i) + \" th element is \" + str(val))"
   ]
  },
  {
   "cell_type": "code",
   "execution_count": 40,
   "id": "1ccc4a83-d97e-419b-8702-902418982814",
   "metadata": {},
   "outputs": [
    {
     "name": "stdout",
     "output_type": "stream",
     "text": [
      "[0, 1, 2]\n",
      "[3, 4, 5]\n",
      "[6, 7, 8]\n"
     ]
    }
   ],
   "source": [
    "# The loop for 2D list.\n",
    "for i in b_2D_list:\n",
    "    print(i)"
   ]
  },
  {
   "cell_type": "code",
   "execution_count": 44,
   "id": "599c24e7-1d4a-4dce-9ec5-01308a90a10d",
   "metadata": {},
   "outputs": [
    {
     "name": "stdout",
     "output_type": "stream",
     "text": [
      "i = 0,j = 0\n",
      "0\n",
      "i = 0,j = 1\n",
      "1\n",
      "i = 0,j = 2\n",
      "2\n",
      "i = 1,j = 0\n",
      "3\n",
      "i = 1,j = 1\n",
      "4\n",
      "i = 1,j = 2\n",
      "5\n",
      "i = 2,j = 0\n",
      "6\n",
      "i = 2,j = 1\n",
      "7\n",
      "i = 2,j = 2\n",
      "8\n"
     ]
    }
   ],
   "source": [
    "# Double for loop can be used for the 2D list.\n",
    "for i in range(len(b_2D_list)):\n",
    "    for j in range(len(b_2D_list[0])):\n",
    "        print(\"i = \" + str(i) + \",\" + \"j = \" + str(j))\n",
    "        print(b_2D_list[i][j])"
   ]
  },
  {
   "cell_type": "markdown",
   "id": "f97ff869-1c56-450e-b1f2-10be2dae6e46",
   "metadata": {},
   "source": [
    "### List comprehension\n",
    "This is a little advanced topic. The for loop can be use in a list."
   ]
  },
  {
   "cell_type": "code",
   "execution_count": 47,
   "id": "bb4bc165-0493-48b5-996a-641834327694",
   "metadata": {},
   "outputs": [
    {
     "name": "stdout",
     "output_type": "stream",
     "text": [
      "[0, 1, 2, 3, 4]\n",
      "[0, 1, 2, 3, 4]\n"
     ]
    }
   ],
   "source": [
    "test_list = [] # Prepare the empty list\n",
    "for i in range(0, 5):\n",
    "    test_list.append(i) # Append the value to the list\n",
    "\n",
    "test_list2 = [i for i in range(0, 5)] # The same thing can be done in a list.\n",
    "\n",
    "print(test_list)\n",
    "print(test_list2)"
   ]
  },
  {
   "cell_type": "markdown",
   "id": "5386d782-758f-4ec5-998a-6b9091881e25",
   "metadata": {},
   "source": [
    "### Bool\n",
    "Bool means \"True\" or \"False\". \n"
   ]
  },
  {
   "cell_type": "code",
   "execution_count": 56,
   "id": "2258df15-2ae3-4be8-9b4f-6d39f3abdef4",
   "metadata": {},
   "outputs": [
    {
     "name": "stdout",
     "output_type": "stream",
     "text": [
      "True\n",
      "False\n"
     ]
    }
   ],
   "source": [
    "print(5>4) # Is 5 larger than 4?\n",
    "print(4==5) # Is 4 equals to 5?"
   ]
  },
  {
   "cell_type": "code",
   "execution_count": 62,
   "id": "d5e13dee-d46d-44e8-a993-ea7216316917",
   "metadata": {},
   "outputs": [
    {
     "name": "stdout",
     "output_type": "stream",
     "text": [
      "True\n",
      "False\n"
     ]
    }
   ],
   "source": [
    "# If-else function. If after \"if\" is \"True\", the code will be executed. If not, the code in \"else\" will be run.\n",
    "val = True\n",
    "if val:\n",
    "    print(\"True\")\n",
    "else:\n",
    "    print(\"Not true\")\n",
    "\n",
    "val = False\n",
    "if val:\n",
    "    print(True)\n",
    "else:\n",
    "    print(False)\n"
   ]
  },
  {
   "cell_type": "code",
   "execution_count": 63,
   "id": "240a5970-692c-457c-8f69-b98900d6fd50",
   "metadata": {},
   "outputs": [
    {
     "name": "stdout",
     "output_type": "stream",
     "text": [
      "value is not 3\n",
      "value is not 3\n",
      "value is not 3\n",
      "value is 3\n"
     ]
    }
   ],
   "source": [
    "# if in for loop\n",
    "for i in range(0, 4):\n",
    "    if i == 3:\n",
    "        print(\"value is 3\")\n",
    "    else:\n",
    "        print(\"value is not 3\")"
   ]
  },
  {
   "cell_type": "markdown",
   "id": "5eac8b6b-66a1-474d-add4-52b281fb057b",
   "metadata": {},
   "source": [
    "### Function\n",
    "You can summarize several codes as a \"function\". You can make a function by \"def function name(varaibles):\""
   ]
  },
  {
   "cell_type": "code",
   "execution_count": 68,
   "id": "a8eb010b-ceac-4bab-97c8-a56591aa2060",
   "metadata": {},
   "outputs": [],
   "source": [
    "# Prepare a function to judge if the value is larger than 5 or not.\n",
    "def judge_value(value): # The name of the function is \"judge_value\", and \"value\" should be given when using this function.\n",
    "    print(value)\n",
    "    if val > 5:\n",
    "        print(\"more than 5\")\n",
    "    else:\n",
    "        print(\"less than 5\")\n",
    "\n",
    "def add_two_val(val1, val2): # Another function. This function uses two values.\n",
    "    new_val = val1 + val2\n",
    "    return new_val # This function returns a value after use."
   ]
  },
  {
   "cell_type": "code",
   "execution_count": 70,
   "id": "68ed64b3-dc87-41d0-bfb7-d3e91ab2eb05",
   "metadata": {},
   "outputs": [
    {
     "name": "stdout",
     "output_type": "stream",
     "text": [
      "2\n",
      "less than 5\n",
      "20\n",
      "less than 5\n"
     ]
    }
   ],
   "source": [
    "judge_value(2) # Use the function. The function \"judge_value\" needs \n",
    "judge_value(20)"
   ]
  },
  {
   "cell_type": "code",
   "execution_count": 72,
   "id": "a0e3f386-0dc3-4d26-825d-6c8fd0feadac",
   "metadata": {},
   "outputs": [
    {
     "name": "stdout",
     "output_type": "stream",
     "text": [
      "5\n"
     ]
    }
   ],
   "source": [
    "val = add_two_val(2, 3) # \"add_two_val\" needs two variables. This function return a value, so recieve it as \"val\".\n",
    "print(val)"
   ]
  },
  {
   "cell_type": "code",
   "execution_count": null,
   "id": "6c9a5a77-8681-4712-9da5-10f59c7ee94e",
   "metadata": {},
   "outputs": [],
   "source": []
  }
 ],
 "metadata": {
  "kernelspec": {
   "display_name": "Python 3 (ipykernel)",
   "language": "python",
   "name": "python3"
  },
  "language_info": {
   "codemirror_mode": {
    "name": "ipython",
    "version": 3
   },
   "file_extension": ".py",
   "mimetype": "text/x-python",
   "name": "python",
   "nbconvert_exporter": "python",
   "pygments_lexer": "ipython3",
   "version": "3.13.5"
  }
 },
 "nbformat": 4,
 "nbformat_minor": 5
}
